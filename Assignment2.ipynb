{
 "cells": [
  {
   "cell_type": "markdown",
   "metadata": {},
   "source": [
    "# Program using Oop"
   ]
  },
  {
   "cell_type": "code",
   "execution_count": 1,
   "metadata": {},
   "outputs": [
    {
     "name": "stdout",
     "output_type": "stream",
     "text": [
      "The area of the circle is: 78.53975\n"
     ]
    }
   ],
   "source": [
    "class Circle:\n",
    "    def __init__(self, radius):\n",
    "        self.radius = radius\n",
    "    def calculate_area(self):\n",
    "        return 3.14159 * (self.radius ** 2)\n",
    "circle = Circle(5)\n",
    "print(f\"The area of the circle is: {circle.calculate_area()}\")\n"
   ]
  },
  {
   "cell_type": "code",
   "execution_count": 2,
   "metadata": {},
   "outputs": [
    {
     "name": "stdout",
     "output_type": "stream",
     "text": [
      "The final price after discount is: 80.0\n"
     ]
    }
   ],
   "source": [
    "class Item:\n",
    "    def __init__(self, original_price, discount_percentage):\n",
    "        self.original_price = original_price\n",
    "        self.discount_percentage = discount_percentage\n",
    "    \n",
    "    def calculate_discount(self):\n",
    "        discount_amount = (self.discount_percentage / 100) * self.original_price\n",
    "        final_price = self.original_price - discount_amount\n",
    "        return final_price\n",
    "item = Item(100, 20)\n",
    "print(f\"The final price after discount is: {item.calculate_discount()}\")\n"
   ]
  },
  {
   "cell_type": "code",
   "execution_count": 4,
   "metadata": {},
   "outputs": [
    {
     "name": "stdout",
     "output_type": "stream",
     "text": [
      "The number of vowels in the string is: 0\n"
     ]
    }
   ],
   "source": [
    "class StringAnalyzer:\n",
    "    def __init__(self, input_string):\n",
    "        self.input_string = input_string\n",
    "    def count_vowels(self):\n",
    "        vowels = 'aeiouAEIOU'\n",
    "        count = 0\n",
    "        for char in self.input_string:\n",
    "            if char in vowels:\n",
    "                count += 1\n",
    "        return count\n",
    "string_analyzer = StringAnalyzer(\"my\")\n",
    "print(f\"The number of vowels in the string is: {string_analyzer.count_vowels()}\")\n"
   ]
  },
  {
   "cell_type": "markdown",
   "metadata": {},
   "source": []
  }
 ],
 "metadata": {
  "kernelspec": {
   "display_name": "Python 3",
   "language": "python",
   "name": "python3"
  },
  "language_info": {
   "codemirror_mode": {
    "name": "ipython",
    "version": 3
   },
   "file_extension": ".py",
   "mimetype": "text/x-python",
   "name": "python",
   "nbconvert_exporter": "python",
   "pygments_lexer": "ipython3",
   "version": "3.12.3"
  }
 },
 "nbformat": 4,
 "nbformat_minor": 2
}
