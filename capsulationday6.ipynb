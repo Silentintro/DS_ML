{
 "cells": [
  {
   "cell_type": "code",
   "execution_count": null,
   "metadata": {},
   "outputs": [],
   "source": []
  },
  {
   "cell_type": "markdown",
   "metadata": {},
   "source": [
    "# Incapsulation"
   ]
  },
  {
   "cell_type": "markdown",
   "metadata": {},
   "source": [
    "### public \n",
    " "
   ]
  },
  {
   "cell_type": "markdown",
   "metadata": {},
   "source": []
  },
  {
   "cell_type": "code",
   "execution_count": 20,
   "metadata": {},
   "outputs": [
    {
     "name": "stdout",
     "output_type": "stream",
     "text": [
      "obj_std.collage_name\n",
      "patwal\n",
      "50000\n",
      "ayush\n",
      "CSE\n",
      "70000\n"
     ]
    }
   ],
   "source": [
    "class collage:\n",
    "    collage_name=\"LIET\"\n",
    "class facalty(collage):\n",
    "    facalty_name=\"patwal\"\n",
    "    facalty_salary=50000\n",
    "class student(facalty):\n",
    "    student_name=\"ayush\"\n",
    "    student_corse=\"CSE\"\n",
    "    student_fees=70000\n",
    "obj_std= student()\n",
    "print(obj_std.collage_name)\n",
    "print(obj_std.facalty_name)\n",
    "print(obj_std.facalty_salary)\n",
    "print(obj_std.student_name)\n",
    "print(obj_std.student_corse)\n",
    "print(obj_std.student_fees)\n"
   ]
  },
  {
   "cell_type": "code",
   "execution_count": 13,
   "metadata": {},
   "outputs": [
    {
     "name": "stdout",
     "output_type": "stream",
     "text": [
      "constructor is executed\n",
      "45\n",
      "may father name is ash\n",
      "my father age is 45\n"
     ]
    }
   ],
   "source": [
    "class father:\n",
    "    def __init__(self,name,age):\n",
    "        self.father_name= name\n",
    "        self.father_age= age\n",
    "        print(\"constructor is executed\")\n",
    "\n",
    "    def display(self):\n",
    "        print(\"may father name is\", self.father_name)\n",
    "        print(\"my father age is\", self.father_age)\n",
    "\n",
    "class Son(father):\n",
    "    def son_hii(self):\n",
    "        print(\"hi i am v\")\n",
    "        print(\"my age is 20\")\n",
    "son_obj = Son(\"ash\",45)\n",
    "print(son_obj.father_age)\n",
    "\n",
    "son_obj.display()"
   ]
  },
  {
   "cell_type": "code",
   "execution_count": 11,
   "metadata": {},
   "outputs": [
    {
     "name": "stdout",
     "output_type": "stream",
     "text": [
      "LIET\n",
      "patwal\n",
      "ayush\n",
      "CSE\n",
      "70000\n"
     ]
    }
   ],
   "source": [
    "class collage:\n",
    "    collage_name=\"LIET\"\n",
    "class facalty(collage):\n",
    "    facalty_name=\"patwal\"\n",
    "    _facalty_salary=50000       \n",
    "class student(facalty):\n",
    "    student_name=\"ayush\"\n",
    "    student_corse=\"CSE\"\n",
    "    student_fees=70000\n",
    "obj_std= student()\n",
    "print(obj_std.collage_name)\n",
    "print(obj_std.facalty_name)\n",
    "\n",
    "print(obj_std.student_name)\n",
    "print(obj_std.student_corse)\n",
    "print(obj_std.student_fees)\n"
   ]
  },
  {
   "cell_type": "markdown",
   "metadata": {},
   "source": [
    "# Protector"
   ]
  },
  {
   "cell_type": "code",
   "execution_count": null,
   "metadata": {},
   "outputs": [],
   "source": []
  },
  {
   "cell_type": "code",
   "execution_count": 19,
   "metadata": {},
   "outputs": [
    {
     "name": "stdout",
     "output_type": "stream",
     "text": [
      "LIET\n"
     ]
    }
   ],
   "source": [
    "class collage:\n",
    "    _collage_name=\"LIET\"  #protector variable\n",
    "class facalty(collage):\n",
    "    facalty_name=\"patwal\"\n",
    "    facalty_salary=50000       \n",
    "class student(facalty):\n",
    "    student_name=\"ayush\"\n",
    "    student_corse=\"CSE\"\n",
    "    student_fees=70000\n",
    "obj_std= student()\n",
    "# print(obj_std.facalty_name)\n",
    "# print(obj_std.facalty_salary)\n",
    "# print(obj_std.student_name)\n",
    "# print(obj_std.student_corse)\n",
    "# print(obj_std.student_fees)\n",
    "print(obj_std._collage_name)\n"
   ]
  }
 ],
 "metadata": {
  "kernelspec": {
   "display_name": "Python 3",
   "language": "python",
   "name": "python3"
  },
  "language_info": {
   "codemirror_mode": {
    "name": "ipython",
    "version": 3
   },
   "file_extension": ".py",
   "mimetype": "text/x-python",
   "name": "python",
   "nbconvert_exporter": "python",
   "pygments_lexer": "ipython3",
   "version": "3.10.6"
  }
 },
 "nbformat": 4,
 "nbformat_minor": 2
}
