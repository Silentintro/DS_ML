{
 "cells": [
  {
   "cell_type": "code",
   "execution_count": null,
   "metadata": {},
   "outputs": [],
   "source": []
  },
  {
   "cell_type": "markdown",
   "metadata": {},
   "source": [
    "# multilevel inheriten\n",
    "class grandparents:"
   ]
  },
  {
   "cell_type": "markdown",
   "metadata": {},
   "source": [
    "inheritence\n",
    "\n",
    "* garnd parents to grand son"
   ]
  },
  {
   "cell_type": "markdown",
   "metadata": {},
   "source": []
  },
  {
   "cell_type": "code",
   "execution_count": null,
   "metadata": {},
   "outputs": [],
   "source": [
    "class grandfarher:\n",
    "    grandfather_name=\"vijay\"\n",
    "    grandfather_age= 85\n",
    "\n",
    "class father(grandfather):\n",
    "    father_name=\"U\"\n",
    "    father_age=47\n",
    "class child(father):\n",
    "    child_name=\"A\"\n",
    "    child_age=20\n",
    "obj_son = child()\n",
    "print(\"obj_son.grandfather_name\")\n",
    "print(\"obj_son.grandfather_age\")\n",
    "print(\"obj_son.father_name\")\n",
    "print(\"obj_son.father_age\")\n",
    "print(\"obj_son.child_name\")\n",
    "print(\"obj_son.child_age\")"
   ]
  }
 ],
 "metadata": {
  "language_info": {
   "name": "python"
  }
 },
 "nbformat": 4,
 "nbformat_minor": 2
}
