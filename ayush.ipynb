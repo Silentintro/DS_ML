{
 "cells": [
  {
   "cell_type": "code",
   "execution_count": null,
   "metadata": {},
   "outputs": [],
   "source": [
    "#multiple\n",
    "class father:\n",
    "    def __init__(self,name,age):\n",
    "        self.father_name= name\n",
    "        self.father_age= age\n",
    "        print(\"constructor is executed\")\n",
    "\n",
    "    def display(self):\n",
    "        print(\"may father name is\", self.father_name)\n",
    "        print(\"my father age is\", self.father_age)\n",
    "\n",
    "class Son(father):\n",
    "    def son_hii(self):\n",
    "        print(\"hi i am v\")\n",
    "        print(\"my age is 20\")\n",
    "son_obj = Son(\"ash\",45)\n",
    "print(son_obj.father_age)\n",
    "\n",
    "son_obj.display()"
   ]
  },
  {
   "cell_type": "code",
   "execution_count": null,
   "metadata": {},
   "outputs": [],
   "source": [
    "def function():\n",
    "    ex = [1,2,2,4,7,8,8]\n",
    "    my https://github.com/Silentintro/L.one.githttps://github.com/Silentintro/L.one.git"
   ]
  }
 ],
 "metadata": {
  "language_info": {
   "name": "python"
  }
 },
 "nbformat": 4,
 "nbformat_minor": 2
}
